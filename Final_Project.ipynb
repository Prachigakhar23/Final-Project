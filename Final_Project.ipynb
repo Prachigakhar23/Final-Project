{
  "nbformat": 4,
  "nbformat_minor": 0,
  "metadata": {
    "colab": {
      "name": "Final Project",
      "provenance": [],
      "collapsed_sections": []
    },
    "kernelspec": {
      "name": "python3",
      "display_name": "Python 3"
    },
    "language_info": {
      "name": "python"
    }
  },
  "cells": [
    {
      "cell_type": "code",
      "metadata": {
        "colab": {
          "base_uri": "https://localhost:8080/"
        },
        "id": "l8bk1VYhMOyD",
        "outputId": "975d698f-386a-4fa9-9630-aac0090a6e7c"
      },
      "source": [
        "celsius = float(input('Enter temperature in Celsius: '))  \n",
        "  \n",
        "# calculate temperature in Fahrenheit  \n",
        "fahrenheit = (celsius * 1.8) + 32  \n",
        "print('%0.1f  Celsius is equal to %0.1f degree Fahrenheit'%(celsius,fahrenheit))"
      ],
      "execution_count": 1,
      "outputs": [
        {
          "output_type": "stream",
          "text": [
            "Enter temperature in Celsius: 98\n",
            "98.0  Celsius is equal to 208.4 degree Fahrenheit\n"
          ],
          "name": "stdout"
        }
      ]
    }
  ]
}